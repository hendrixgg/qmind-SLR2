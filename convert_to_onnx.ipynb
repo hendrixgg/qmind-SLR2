{
 "cells": [
  {
   "attachments": {},
   "cell_type": "markdown",
   "metadata": {},
   "source": [
    "# Load sklearn model from pickle file\n",
    "also load data set"
   ]
  },
  {
   "cell_type": "code",
   "execution_count": 7,
   "metadata": {},
   "outputs": [],
   "source": [
    "import pickle\n",
    "model = pickle.load(open(\"./models/svm_landmark_model2.sav\", \"rb\"))\n",
    "\n",
    "import pandas as pd\n",
    "import numpy as np\n",
    "from sklearn.model_selection import train_test_split\n",
    "dataFrame = pd.read_csv(\"asl_alphabet_train\\\\asl_alphabet_landmarks.csv\")\n",
    "labels = dataFrame.iloc[:, -1].values\n",
    "inputs = np.reshape(dataFrame.iloc[:, 1 + 3:-1].values, (-1, 60))\n",
    "\n",
    "train_set, test_set, train_labels, test_labels = train_test_split(inputs, labels, test_size=0.01, random_state=0)"
   ]
  },
  {
   "attachments": {},
   "cell_type": "markdown",
   "metadata": {},
   "source": [
    "# Convert or export the model into ONNX format"
   ]
  },
  {
   "cell_type": "code",
   "execution_count": 10,
   "metadata": {},
   "outputs": [],
   "source": [
    "from skl2onnx import convert_sklearn\n",
    "from skl2onnx.common.data_types import FloatTensorType\n",
    "\n",
    "initial_type = [('float_input', FloatTensorType([None, train_set.shape[1]]))]\n",
    "onx = convert_sklearn(model, initial_types=initial_type)\n",
    "with open(\"./models/svm_landmarks2.onnx\", \"wb\") as f:\n",
    "    f.write(onx.SerializeToString())"
   ]
  },
  {
   "attachments": {},
   "cell_type": "markdown",
   "metadata": {},
   "source": [
    "# Load and run the model using ONNX Runtime"
   ]
  },
  {
   "cell_type": "code",
   "execution_count": 12,
   "metadata": {},
   "outputs": [],
   "source": [
    "import onnxruntime as rt\n",
    "sess = rt.InferenceSession(\"./models/svm_landmarks2.onnx\", providers=[\"CPUExecutionProvider\"])\n",
    "input_name = sess.get_inputs()[0].name\n",
    "label_name = sess.get_outputs()[0].name\n",
    "\n",
    "pred_onx = sess.run([label_name], {input_name: test_set.astype(np.float32)})"
   ]
  },
  {
   "cell_type": "code",
   "execution_count": 16,
   "metadata": {},
   "outputs": [
    {
     "name": "stdout",
     "output_type": "stream",
     "text": [
      "[20  4 18 11 13  0 17  0 26  9 24  9 10  8 23  7 22  1  8 23 15 11  8  6\n",
      " 11  8  5  7 11 22  6 17 23  9  8 10 19 20 22  4 20  6  6 20  1 21  8 22\n",
      " 23  8 11 22 27  5 10 21 10  4 19 22 18 15 22 23 27 11  5  1  6 24  4 21\n",
      "  8 24  2 19  3  7  4  2 18 15 18  7 27 22 12 22 17 16 20 20 16  5  4 12\n",
      " 19  4 22  8 24  5 17  7  0 27 21 25 15  4  5 11 15 19 16 16  5  7 22  5\n",
      " 20 12  0 19 12 19 10 21  7 17 17 23 17 25  1 12  9 27 20 25  2 14 11  1\n",
      "  0  9 24  3  5 19 23  8  0 12 16  7 11 18 10 21 26  3  1  5 17 10 22 13\n",
      "  7 13  6 12 11 11 23  6 12  4  5 17  4  6 21  5 23  4  1  9  4  2 16  8\n",
      " 19 27 26  8  8 17  5 14 10 12  0 16 10 11 19 27  9  6  9 15 22 27  9 11\n",
      "  9  8 27 22 19 25  3 14  7  9  4 26 10  0  0  7  8  3  8 20  6  1 26 17\n",
      " 14  9  0 25 26 14  8 25  1  3  2 17 24 26 12 16  5 26 24  0 16  6  2  6\n",
      "  0  0 14  8  0 11 23 24 10 22 20 27 23 22 22  9  5  6 11 17 12 16 10  3\n",
      " 15  6  4  0  9  1 13  7 14  9 21  9  9 21  4 17 21 21 26  0 24  4  7 25\n",
      "  3 13  2 25  7  9  1  8  7 12 14 19  1  7  6  7  4 20 10 18 24 14  9  4\n",
      "  6  3 10 27  9 27 10 27  7  8 16 11 21 27  6 20 19 14 21 26 22  7  0 27\n",
      " 15 10 25 24  5  6  1  9 25 24  0  4  5 20 14  0  6 24 15  5 21  8  0 17\n",
      " 22 10 15  2 20 10 17 25 17 19 27 20 25 10 20 23 27  4  1 16 12 19 12  7\n",
      " 17 17 19 23 24  1 10 25  0 12 25 27 23 26  4 24 26 17  7 12 25 17 23 23\n",
      " 16  1  2 21 21 20 22  1 25 10  7 13 12 23  9 21 11 10 21  6  1 12  6 20\n",
      "  3 21 22  9  1 14  6 17 22  0 17 25 15  5  1 25  6 17 25 16 12 24 26 21\n",
      "  9 17 10 17  2  1  0 15 12 22  3  5 15 17 19  5  8 11 13 18 14  6 21  4\n",
      "  7 17 11  8  2 12 27  5 12  7 15 11  8 19  7 25  9 13 16  9  3 22 22 24\n",
      "  7 19  4  6 17 10 24  4 19 22 13 16  9 11 12 15  7  3 25 27 10  5 18 25\n",
      "  3  3  6 10  0  3 10 25 16 15 21 23  3 17 20 19  4 12  3 24 11  1 24 20\n",
      "  4 23 24 14 13 26 20 24 19 17 24  0 21  9  7  7 22 25 10  0 21 27  3  0\n",
      "  2  7  9  2 19 22 14 23 20 16 23 12  1 18 11  7 20 23 25  2 11  2  1 24\n",
      " 20 17 27 22 24 15 25  3 16  4  5 15  3]\n"
     ]
    }
   ],
   "source": [
    "print(pred_onx[0])"
   ]
  },
  {
   "cell_type": "code",
   "execution_count": 17,
   "metadata": {},
   "outputs": [
    {
     "name": "stdout",
     "output_type": "stream",
     "text": [
      "[20  4 18 11 13  0 17  0 26  9 24  9 10  8 23  7 22  1  8 23 15 11  8 15\n",
      " 11  8  5  7 11 22  6 17 23  9  8 10 19 20 22  4 20  6  6 20  1 21  8 22\n",
      " 23  8 11 22 27  5 10 21 10  4 19 22 18 15 22 23 27 11  5  1  6 24  4 21\n",
      "  8 24  2 19  3  7  4  2 18 15 18  7 27 22 12 22 17 16 20 20 16  5  4 12\n",
      " 19  4 22  8 24  5 17  7  0 27 22 25 15  4  5 11 15 19 16 16  5  7 22  5\n",
      " 20 12  0 19 12 19 10 21  7 17 17 23 17 25  1 12  9 27 20 25  2 14 11  1\n",
      "  0  9 24  3  5 19 23  8  0 12 16  7 11 18 10 21 26  3  1  5 17 10 22 13\n",
      "  7 13  6 12 11 11 23  6 12  4  5 17  4  6 21  5 23  4  1  9  4  2 16  8\n",
      " 19 27 26  8  8 17  5 14 10 12  0 16 10 11 19 27  9  6  9 15 22 27  9 11\n",
      "  9  8 27 22 19 25  3 14  7  9  4 26 10  0  0  7  8  3  8 20  6  1 26 17\n",
      " 14  9  0 25 26 14  8 25  1  3  2 17 24 26 12 16  5 26 24  0 16  6  2  6\n",
      "  0  0 14  8  0 11 23 24 10 22 20 27 23 22 22  9  5  6 11 17 12 16 10  3\n",
      " 15  6  4  0  9  1 13  7 14  9 21  9  9 21  4 17 21 21 26  0 24  4  7 25\n",
      "  3 13  2 25  7  9  1  8  7 12 14 19  1  7  6  7  4 20 10 18 24 14  9  4\n",
      "  6  3 10 27  9 27 10 27  7  8 16 11 21 27  6 20 19 14 21 26 22  7  0 27\n",
      " 15 10 25 24  5  6  1 18 25 24  0  4  5 20 14  0  6 24 15  5 21  8  0 17\n",
      " 22 10 15  2 20 10 17 25 17 19 27 20 25 10 20 23 27  4  1 16 12 19 12  7\n",
      " 17 17 19 23 24  1 10 25  0 13 25 27 23 26  4 24 26 17  7 12 25 17 23 23\n",
      " 16  1  2 21 21 20 22  1 25 10  7 12 12 23  9 21 11 10 21  6  1 12  6 20\n",
      "  3 21 22  9  1 14  6 17 22  0 20 25 15  5  1 25  6 17 25 16 12 24 26 21\n",
      "  9 17 10 17  2  1  0 15 12 22  3  5 15 17 19  5  8 11 13 18 14  6 21  4\n",
      "  7 22 11  8 25 12 27  5 12  7 15 11  8 19  7 25  9 13 16  9  3 22 22 24\n",
      "  7 19  4  6 17 10 24  4 19 22 13 16  9 11 12 15  7  3 25 27 10  5 18 25\n",
      "  3  3  6 10  0  3 10 25 16 15 21 23  3 17 20 19  4 12  3 24 11  1 24 20\n",
      "  4 23 24 14 13 26 20 24 19 17 24  0 21  9  7  7 22 25 10  0 21 27  3  0\n",
      "  2  7  9  2 19 22 14 23 20 16 23 12  1 18 11  7 20 23 25  2 11  2  1 24\n",
      " 17 17 27 22 24 15 25  3 16  4  5 15  3]\n"
     ]
    }
   ],
   "source": [
    "print(test_labels)"
   ]
  },
  {
   "cell_type": "code",
   "execution_count": 21,
   "metadata": {},
   "outputs": [
    {
     "name": "stdout",
     "output_type": "stream",
     "text": [
      "628\n",
      "637\n",
      "0.9858712715855573\n"
     ]
    }
   ],
   "source": [
    "print(sum(pred_onx[0] == test_labels))\n",
    "print(len(test_labels))\n",
    "print(sum(pred_onx[0] == test_labels)/len(test_labels))"
   ]
  }
 ],
 "metadata": {
  "kernelspec": {
   "display_name": "qmind_slr",
   "language": "python",
   "name": "python3"
  },
  "language_info": {
   "codemirror_mode": {
    "name": "ipython",
    "version": 3
   },
   "file_extension": ".py",
   "mimetype": "text/x-python",
   "name": "python",
   "nbconvert_exporter": "python",
   "pygments_lexer": "ipython3",
   "version": "3.10.6"
  },
  "orig_nbformat": 4
 },
 "nbformat": 4,
 "nbformat_minor": 2
}
